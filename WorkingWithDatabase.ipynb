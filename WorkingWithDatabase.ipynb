{
 "cells": [
  {
   "cell_type": "code",
   "execution_count": 1,
   "metadata": {},
   "outputs": [],
   "source": [
    "import psycopg2 as db\n",
    "import pandas as pd"
   ]
  },
  {
   "cell_type": "code",
   "execution_count": 6,
   "metadata": {},
   "outputs": [],
   "source": [
    "conn_string=\"dbname='spotifydb' host='localhost' user='postgres' password='Pa55w.rd'\""
   ]
  },
  {
   "cell_type": "code",
   "execution_count": 7,
   "metadata": {},
   "outputs": [],
   "source": [
    "conn=db.connect(conn_string)"
   ]
  },
  {
   "cell_type": "code",
   "execution_count": 9,
   "metadata": {},
   "outputs": [],
   "source": [
    "df=pd.read_sql(\"select * from public.get_recently_played_track \",conn)"
   ]
  },
  {
   "cell_type": "code",
   "execution_count": 11,
   "metadata": {},
   "outputs": [
    {
     "name": "stdout",
     "output_type": "stream",
     "text": [
      "   id            song_name  popularity artist_name               played_at  \\\n",
      "0   1  MIDDLE OF THE NIGHT          87  Elley Duhé 2022-01-22 12:48:26.550   \n",
      "1   2        Umrumda Değil          76         UZI 2022-01-22 11:11:34.242   \n",
      "2   3                CINDY          77         UZI 2022-01-22 11:08:28.712   \n",
      "3   4            PAPARAZZI          81         UZI 2022-01-22 11:06:29.255   \n",
      "4   5                Woman          95    Doja Cat 2022-01-22 11:03:32.711   \n",
      "\n",
      "   timestamps  \n",
      "0  2022-01-22  \n",
      "1  2022-01-22  \n",
      "2  2022-01-22  \n",
      "3  2022-01-22  \n",
      "4  2022-01-22  \n"
     ]
    }
   ],
   "source": [
    "print(df.head())"
   ]
  },
  {
   "cell_type": "code",
   "execution_count": 12,
   "metadata": {},
   "outputs": [
    {
     "name": "stdout",
     "output_type": "stream",
     "text": [
      "MIDDLE OF THE NIGHT    6\n",
      "Big Energy             4\n",
      "Woman                  3\n",
      "Eat It                 2\n",
      "PAPARAZZI              2\n",
      "CINDY                  2\n",
      "Umrumda Değil          1\n",
      "Name: song_name, dtype: int64\n"
     ]
    }
   ],
   "source": [
    "print(df['song_name'].value_counts())"
   ]
  },
  {
   "cell_type": "code",
   "execution_count": 13,
   "metadata": {},
   "outputs": [],
   "source": [
    "cur=conn.cursor()"
   ]
  },
  {
   "cell_type": "code",
   "execution_count": 14,
   "metadata": {},
   "outputs": [],
   "source": [
    "query=\"select * from public.get_recently_played_track\""
   ]
  },
  {
   "cell_type": "code",
   "execution_count": 15,
   "metadata": {},
   "outputs": [],
   "source": [
    "cur.execute(query)"
   ]
  },
  {
   "cell_type": "code",
   "execution_count": 16,
   "metadata": {},
   "outputs": [
    {
     "name": "stdout",
     "output_type": "stream",
     "text": [
      "(1, 'MIDDLE OF THE NIGHT', 87, 'Elley Duhé', datetime.datetime(2022, 1, 22, 12, 48, 26, 550000), datetime.date(2022, 1, 22))\n"
     ]
    }
   ],
   "source": [
    "print(cur.fetchone())"
   ]
  },
  {
   "cell_type": "code",
   "execution_count": 17,
   "metadata": {},
   "outputs": [
    {
     "name": "stdout",
     "output_type": "stream",
     "text": [
      "20\n"
     ]
    }
   ],
   "source": [
    "print(cur.rowcount)"
   ]
  },
  {
   "cell_type": "code",
   "execution_count": 18,
   "metadata": {},
   "outputs": [
    {
     "name": "stdout",
     "output_type": "stream",
     "text": [
      "1\n"
     ]
    }
   ],
   "source": [
    "print(cur.rownumber)"
   ]
  },
  {
   "cell_type": "code",
   "execution_count": 19,
   "metadata": {},
   "outputs": [
    {
     "name": "stdout",
     "output_type": "stream",
     "text": [
      "[(2, 'Umrumda Değil', 76, 'UZI', datetime.datetime(2022, 1, 22, 11, 11, 34, 242000), datetime.date(2022, 1, 22)), (3, 'CINDY', 77, 'UZI', datetime.datetime(2022, 1, 22, 11, 8, 28, 712000), datetime.date(2022, 1, 22)), (4, 'PAPARAZZI', 81, 'UZI', datetime.datetime(2022, 1, 22, 11, 6, 29, 255000), datetime.date(2022, 1, 22))]\n"
     ]
    }
   ],
   "source": [
    "print(cur.fetchmany(3))"
   ]
  },
  {
   "cell_type": "code",
   "execution_count": 20,
   "metadata": {},
   "outputs": [
    {
     "name": "stdout",
     "output_type": "stream",
     "text": [
      "4\n"
     ]
    }
   ],
   "source": [
    "print(cur.rownumber)"
   ]
  },
  {
   "cell_type": "code",
   "execution_count": 21,
   "metadata": {},
   "outputs": [],
   "source": [
    "f=open('spotify.csv','w')"
   ]
  },
  {
   "cell_type": "code",
   "execution_count": 22,
   "metadata": {},
   "outputs": [],
   "source": [
    "cur.copy_to(f,'get_recently_played_track',sep=',')"
   ]
  },
  {
   "cell_type": "code",
   "execution_count": 23,
   "metadata": {},
   "outputs": [],
   "source": [
    "f.close()"
   ]
  },
  {
   "cell_type": "code",
   "execution_count": 24,
   "metadata": {},
   "outputs": [
    {
     "name": "stdout",
     "output_type": "stream",
     "text": [
      "CSV.ipynb      datanifi.csv\t JSON.ipynb   WorkingWithDatabase.ipynb\r\n",
      "data.csv       fromAirflow.json  nifijson\r\n",
      "data.json.bak  fromdf2.csv\t spotify.csv\r\n"
     ]
    }
   ],
   "source": [
    "!ls"
   ]
  },
  {
   "cell_type": "code",
   "execution_count": 25,
   "metadata": {},
   "outputs": [
    {
     "name": "stdout",
     "output_type": "stream",
     "text": [
      "1,MIDDLE OF THE NIGHT,87,Elley Duhé,2022-01-22 12:48:26.55,2022-01-22\r\n",
      "2,Umrumda Değil,76,UZI,2022-01-22 11:11:34.242,2022-01-22\r\n",
      "3,CINDY,77,UZI,2022-01-22 11:08:28.712,2022-01-22\r\n",
      "4,PAPARAZZI,81,UZI,2022-01-22 11:06:29.255,2022-01-22\r\n",
      "5,Woman,95,Doja Cat,2022-01-22 11:03:32.711,2022-01-22\r\n",
      "6,Big Energy,81,Latto,2022-01-22 11:00:40.25,2022-01-22\r\n",
      "7,MIDDLE OF THE NIGHT,87,Elley Duhé,2022-01-22 10:52:06.583,2022-01-22\r\n",
      "8,MIDDLE OF THE NIGHT,65,Monsta X,2022-01-22 10:45:23.778,2022-01-22\r\n",
      "9,MIDDLE OF THE NIGHT,87,Elley Duhé,2022-01-22 10:42:37.257,2022-01-22\r\n",
      "10,Eat It,73,Megan Thee Stallion,2022-01-22 10:35:54.18,2022-01-22\r\n",
      "11,Woman,95,Doja Cat,2022-01-22 10:33:04.447,2022-01-22\r\n",
      "12,Big Energy,81,Latto,2022-01-22 10:30:11.72,2022-01-22\r\n",
      "13,Big Energy,81,Latto,2022-01-22 10:24:33.723,2022-01-22\r\n",
      "14,Eat It,73,Megan Thee Stallion,2022-01-22 10:21:00.52,2022-01-22\r\n",
      "15,Woman,95,Doja Cat,2022-01-22 10:18:11.172,2022-01-22\r\n",
      "16,Big Energy,81,Latto,2022-01-22 10:15:18.323,2022-01-22\r\n",
      "17,MIDDLE OF THE NIGHT,87,Elley Duhé,2022-01-22 10:11:58.841,2022-01-22\r\n",
      "18,MIDDLE OF THE NIGHT,87,Elley Duhé,2022-01-22 10:08:48.203,2022-01-22\r\n",
      "19,CINDY,77,UZI,2022-01-22 10:02:29.743,2022-01-22\r\n",
      "20,PAPARAZZI,81,UZI,2022-01-22 10:00:30.418,2022-01-22\r\n"
     ]
    }
   ],
   "source": [
    "!cat spotify.csv"
   ]
  },
  {
   "cell_type": "code",
   "execution_count": 26,
   "metadata": {},
   "outputs": [],
   "source": [
    "f=open('spotify.csv','r')"
   ]
  },
  {
   "cell_type": "code",
   "execution_count": 27,
   "metadata": {},
   "outputs": [
    {
     "name": "stdout",
     "output_type": "stream",
     "text": [
      "1,MIDDLE OF THE NIGHT,87,Elley Duhé,2022-01-22 12:48:26.55,2022-01-22\n",
      "2,Umrumda Değil,76,UZI,2022-01-22 11:11:34.242,2022-01-22\n",
      "3,CINDY,77,UZI,2022-01-22 11:08:28.712,2022-01-22\n",
      "4,PAPARAZZI,81,UZI,2022-01-22 11:06:29.255,2022-01-22\n",
      "5,Woman,95,Doja Cat,2022-01-22 11:03:32.711,2022-01-22\n",
      "6,Big Energy,81,Latto,2022-01-22 11:00:40.25,2022-01-22\n",
      "7,MIDDLE OF THE NIGHT,87,Elley Duhé,2022-01-22 10:52:06.583,2022-01-22\n",
      "8,MIDDLE OF THE NIGHT,65,Monsta X,2022-01-22 10:45:23.778,2022-01-22\n",
      "9,MIDDLE OF THE NIGHT,87,Elley Duhé,2022-01-22 10:42:37.257,2022-01-22\n",
      "10,Eat It,73,Megan Thee Stallion,2022-01-22 10:35:54.18,2022-01-22\n",
      "11,Woman,95,Doja Cat,2022-01-22 10:33:04.447,2022-01-22\n",
      "12,Big Energy,81,Latto,2022-01-22 10:30:11.72,2022-01-22\n",
      "13,Big Energy,81,Latto,2022-01-22 10:24:33.723,2022-01-22\n",
      "14,Eat It,73,Megan Thee Stallion,2022-01-22 10:21:00.52,2022-01-22\n",
      "15,Woman,95,Doja Cat,2022-01-22 10:18:11.172,2022-01-22\n",
      "16,Big Energy,81,Latto,2022-01-22 10:15:18.323,2022-01-22\n",
      "17,MIDDLE OF THE NIGHT,87,Elley Duhé,2022-01-22 10:11:58.841,2022-01-22\n",
      "18,MIDDLE OF THE NIGHT,87,Elley Duhé,2022-01-22 10:08:48.203,2022-01-22\n",
      "19,CINDY,77,UZI,2022-01-22 10:02:29.743,2022-01-22\n",
      "20,PAPARAZZI,81,UZI,2022-01-22 10:00:30.418,2022-01-22\n",
      "\n"
     ]
    }
   ],
   "source": [
    "print(f.read())"
   ]
  },
  {
   "cell_type": "code",
   "execution_count": null,
   "metadata": {},
   "outputs": [],
   "source": []
  }
 ],
 "metadata": {
  "kernelspec": {
   "display_name": "Python 3 (ipykernel)",
   "language": "python",
   "name": "python3"
  },
  "language_info": {
   "codemirror_mode": {
    "name": "ipython",
    "version": 3
   },
   "file_extension": ".py",
   "mimetype": "text/x-python",
   "name": "python",
   "nbconvert_exporter": "python",
   "pygments_lexer": "ipython3",
   "version": "3.7.6"
  }
 },
 "nbformat": 4,
 "nbformat_minor": 4
}
